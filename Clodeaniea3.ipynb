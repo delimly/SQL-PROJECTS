{
 "cells": [
  {
   "cell_type": "markdown",
   "id": "596bd7b6-5f59-4f8a-a953-2c6db1895f8a",
   "metadata": {},
   "source": [
    "### SQL / Python - Clodeaniea 3"
   ]
  },
  {
   "cell_type": "code",
   "execution_count": 1,
   "id": "36974ad7-1364-47ad-98e5-77befba35608",
   "metadata": {
    "tags": []
   },
   "outputs": [],
   "source": [
    "import sqlalchemy.exc\n",
    "import pandas as pd\n",
    "import os\n",
    "os.add_dll_directory(r'c:\\users\\delic\\anaconda3\\lib\\site-packages\\clidriver\\bin')\n",
    "import ibm_db\n",
    "import ibm_db_sa"
   ]
  },
  {
   "cell_type": "code",
   "execution_count": 2,
   "id": "e085693e-9507-488b-afe9-8ec2d1610e28",
   "metadata": {
    "tags": []
   },
   "outputs": [],
   "source": [
    "%load_ext sql"
   ]
  },
  {
   "cell_type": "code",
   "execution_count": 3,
   "id": "12ee0daf-002b-4d1c-a5ed-030c6cf1bc44",
   "metadata": {
    "tags": []
   },
   "outputs": [],
   "source": [
    "# %sql ibm_db_sa://my-username:my-password@hostname:port/BLUDB?security=SSL\n",
    "%sql ibm_db_sa://pdm92446:LQuQlJpCY1aPijlQ@824dfd4d-99de-440d-9991-629c01b3832d.bs2io90l08kqb1od8lcg.databases.appdomain.cloud:30119/BLUDB?security=SSL"
   ]
  },
  {
   "cell_type": "code",
   "execution_count": 4,
   "id": "972fae19-30a5-4643-bed0-25208ed3e1ba",
   "metadata": {
    "tags": []
   },
   "outputs": [
    {
     "name": "stdout",
     "output_type": "stream",
     "text": [
      " * ibm_db_sa://pdm92446:***@824dfd4d-99de-440d-9991-629c01b3832d.bs2io90l08kqb1od8lcg.databases.appdomain.cloud:30119/BLUDB?security=SSL\n",
      "Done.\n"
     ]
    },
    {
     "data": {
      "text/html": [
       "<table>\n",
       "    <thead>\n",
       "        <tr>\n",
       "            <th>ethnicity</th>\n",
       "            <th>percentage</th>\n",
       "            <th>population</th>\n",
       "        </tr>\n",
       "    </thead>\n",
       "    <tbody>\n",
       "        <tr>\n",
       "            <td>White</td>\n",
       "            <td>45.0</td>\n",
       "            <td>214048140</td>\n",
       "        </tr>\n",
       "        <tr>\n",
       "            <td>Black</td>\n",
       "            <td>27.0</td>\n",
       "            <td>128428884</td>\n",
       "        </tr>\n",
       "        <tr>\n",
       "            <td>Asian (Oriental)</td>\n",
       "            <td>3.4</td>\n",
       "            <td>16172527</td>\n",
       "        </tr>\n",
       "        <tr>\n",
       "            <td>Asian (Non-Oriental)</td>\n",
       "            <td>3.9</td>\n",
       "            <td>18550839</td>\n",
       "        </tr>\n",
       "        <tr>\n",
       "            <td>Mixed</td>\n",
       "            <td>13.0</td>\n",
       "            <td>61836130</td>\n",
       "        </tr>\n",
       "        <tr>\n",
       "            <td>Other</td>\n",
       "            <td>7.7</td>\n",
       "            <td>36626015</td>\n",
       "        </tr>\n",
       "    </tbody>\n",
       "</table>"
      ],
      "text/plain": [
       "[('White', 45.0, 214048140),\n",
       " ('Black', 27.0, 128428884),\n",
       " ('Asian (Oriental)', 3.4, 16172527),\n",
       " ('Asian (Non-Oriental)', 3.9, 18550839),\n",
       " ('Mixed', 13.0, 61836130),\n",
       " ('Other', 7.7, 36626015)]"
      ]
     },
     "execution_count": 4,
     "metadata": {},
     "output_type": "execute_result"
    }
   ],
   "source": [
    "%%sql\n",
    "SELECT * FROM CLODEANIEA3"
   ]
  },
  {
   "cell_type": "code",
   "execution_count": 5,
   "id": "45b9a443-b68b-4c4e-bea4-45df237a1ba2",
   "metadata": {
    "tags": []
   },
   "outputs": [
    {
     "name": "stdout",
     "output_type": "stream",
     "text": [
      " * ibm_db_sa://pdm92446:***@824dfd4d-99de-440d-9991-629c01b3832d.bs2io90l08kqb1od8lcg.databases.appdomain.cloud:30119/BLUDB?security=SSL\n",
      "Done.\n"
     ]
    }
   ],
   "source": [
    "df = %sql SELECT * FROM CLODEANIEA3"
   ]
  },
  {
   "cell_type": "code",
   "execution_count": 6,
   "id": "afc6a87a-e5fe-4961-9c38-f3f51446fe29",
   "metadata": {
    "tags": []
   },
   "outputs": [],
   "source": [
    "df = df.DataFrame()"
   ]
  },
  {
   "cell_type": "code",
   "execution_count": 7,
   "id": "323b8fdf-454a-4e96-9486-695f17cc7f5b",
   "metadata": {
    "tags": []
   },
   "outputs": [
    {
     "data": {
      "text/html": [
       "<div>\n",
       "<style scoped>\n",
       "    .dataframe tbody tr th:only-of-type {\n",
       "        vertical-align: middle;\n",
       "    }\n",
       "\n",
       "    .dataframe tbody tr th {\n",
       "        vertical-align: top;\n",
       "    }\n",
       "\n",
       "    .dataframe thead th {\n",
       "        text-align: right;\n",
       "    }\n",
       "</style>\n",
       "<table border=\"1\" class=\"dataframe\">\n",
       "  <thead>\n",
       "    <tr style=\"text-align: right;\">\n",
       "      <th></th>\n",
       "      <th>ethnicity</th>\n",
       "      <th>percentage</th>\n",
       "      <th>population</th>\n",
       "    </tr>\n",
       "  </thead>\n",
       "  <tbody>\n",
       "    <tr>\n",
       "      <th>0</th>\n",
       "      <td>White</td>\n",
       "      <td>45.0</td>\n",
       "      <td>214048140</td>\n",
       "    </tr>\n",
       "    <tr>\n",
       "      <th>1</th>\n",
       "      <td>Black</td>\n",
       "      <td>27.0</td>\n",
       "      <td>128428884</td>\n",
       "    </tr>\n",
       "  </tbody>\n",
       "</table>\n",
       "</div>"
      ],
      "text/plain": [
       "  ethnicity  percentage  population\n",
       "0     White        45.0   214048140\n",
       "1     Black        27.0   128428884"
      ]
     },
     "execution_count": 7,
     "metadata": {},
     "output_type": "execute_result"
    }
   ],
   "source": [
    "df.head(2)"
   ]
  },
  {
   "cell_type": "code",
   "execution_count": 8,
   "id": "4272a186-e020-4ab3-970c-514b5234eb33",
   "metadata": {
    "tags": []
   },
   "outputs": [],
   "source": [
    "df.to_csv('clodeaniea3.csv')"
   ]
  }
 ],
 "metadata": {
  "kernelspec": {
   "display_name": "Python 3 (ipykernel)",
   "language": "python",
   "name": "python3"
  },
  "language_info": {
   "codemirror_mode": {
    "name": "ipython",
    "version": 3
   },
   "file_extension": ".py",
   "mimetype": "text/x-python",
   "name": "python",
   "nbconvert_exporter": "python",
   "pygments_lexer": "ipython3",
   "version": "3.11.5"
  }
 },
 "nbformat": 4,
 "nbformat_minor": 5
}
