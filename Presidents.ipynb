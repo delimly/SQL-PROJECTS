{
 "cells": [
  {
   "cell_type": "markdown",
   "id": "9ce36c0c-f7fa-4014-bb13-c98b33cc29d6",
   "metadata": {},
   "source": [
    "#### SQL / Python - Presidents "
   ]
  },
  {
   "cell_type": "code",
   "execution_count": 1,
   "id": "c6cb965f-166c-4091-b8b4-5974b7fed06f",
   "metadata": {
    "tags": []
   },
   "outputs": [],
   "source": [
    "import sqlalchemy.exc\n",
    "import pandas as pd\n",
    "import os\n",
    "os.add_dll_directory(r'c:\\users\\delic\\anaconda3\\lib\\site-packages\\clidriver\\bin')\n",
    "import ibm_db\n",
    "import ibm_db_sa"
   ]
  },
  {
   "cell_type": "code",
   "execution_count": 3,
   "id": "022313d1-55ca-401a-9cdf-f84cb3d68564",
   "metadata": {
    "tags": []
   },
   "outputs": [
    {
     "name": "stdout",
     "output_type": "stream",
     "text": [
      "The sql extension is already loaded. To reload it, use:\n",
      "  %reload_ext sql\n"
     ]
    }
   ],
   "source": [
    "%load_ext sql"
   ]
  },
  {
   "cell_type": "code",
   "execution_count": 4,
   "id": "e579d0de-a2f5-46cb-9a7f-6a93629ea66c",
   "metadata": {
    "tags": []
   },
   "outputs": [],
   "source": [
    "# %sql ibm_db_sa://my-username:my-password@hostname:port/BLUDB?security=SSL\n",
    "%sql ibm_db_sa://pdm92446:LQuQlJpCY1aPijlQ@824dfd4d-99de-440d-9991-629c01b3832d.bs2io90l08kqb1od8lcg.databases.appdomain.cloud:30119/BLUDB?security=SSL"
   ]
  },
  {
   "cell_type": "code",
   "execution_count": 6,
   "id": "f6ee25c9-f77b-4c2d-925c-140ba8bfea14",
   "metadata": {
    "tags": []
   },
   "outputs": [
    {
     "name": "stdout",
     "output_type": "stream",
     "text": [
      " * ibm_db_sa://pdm92446:***@824dfd4d-99de-440d-9991-629c01b3832d.bs2io90l08kqb1od8lcg.databases.appdomain.cloud:30119/BLUDB?security=SSL\n",
      "Done.\n"
     ]
    },
    {
     "data": {
      "text/html": [
       "<table>\n",
       "    <thead>\n",
       "        <tr>\n",
       "            <th>id</th>\n",
       "            <th>START</th>\n",
       "            <th>END</th>\n",
       "            <th>name</th>\n",
       "            <th>party</th>\n",
       "            <th>tenure</th>\n",
       "        </tr>\n",
       "    </thead>\n",
       "    <tbody>\n",
       "        <tr>\n",
       "            <td>33</td>\n",
       "            <td>1956</td>\n",
       "            <td>1962</td>\n",
       "            <td>Terrance Cantrell</td>\n",
       "            <td>NRC</td>\n",
       "            <td>6</td>\n",
       "        </tr>\n",
       "        <tr>\n",
       "            <td>34</td>\n",
       "            <td>1962</td>\n",
       "            <td>1965</td>\n",
       "            <td>Daniella Wallace</td>\n",
       "            <td>DSU</td>\n",
       "            <td>3</td>\n",
       "        </tr>\n",
       "        <tr>\n",
       "            <td>35</td>\n",
       "            <td>1965</td>\n",
       "            <td>1968</td>\n",
       "            <td>Keenan Ritter</td>\n",
       "            <td>DSU</td>\n",
       "            <td>3</td>\n",
       "        </tr>\n",
       "        <tr>\n",
       "            <td>36</td>\n",
       "            <td>1968</td>\n",
       "            <td>1974</td>\n",
       "            <td>Madeline Silva </td>\n",
       "            <td>NRC</td>\n",
       "            <td>6</td>\n",
       "        </tr>\n",
       "        <tr>\n",
       "            <td>37</td>\n",
       "            <td>1974</td>\n",
       "            <td>1980</td>\n",
       "            <td>Douglas Malone</td>\n",
       "            <td>L</td>\n",
       "            <td>6</td>\n",
       "        </tr>\n",
       "        <tr>\n",
       "            <td>38</td>\n",
       "            <td>1980</td>\n",
       "            <td>1992</td>\n",
       "            <td>John Major </td>\n",
       "            <td>NRC</td>\n",
       "            <td>12</td>\n",
       "        </tr>\n",
       "        <tr>\n",
       "            <td>39</td>\n",
       "            <td>1992</td>\n",
       "            <td>2010</td>\n",
       "            <td>Benjamin McKinley </td>\n",
       "            <td>DSU</td>\n",
       "            <td>18</td>\n",
       "        </tr>\n",
       "        <tr>\n",
       "            <td>40</td>\n",
       "            <td>2010</td>\n",
       "            <td>2016</td>\n",
       "            <td>David Cameron</td>\n",
       "            <td>NRC</td>\n",
       "            <td>6</td>\n",
       "        </tr>\n",
       "        <tr>\n",
       "            <td>41</td>\n",
       "            <td>2016</td>\n",
       "            <td>2022</td>\n",
       "            <td>Theresa May</td>\n",
       "            <td>L</td>\n",
       "            <td>6</td>\n",
       "        </tr>\n",
       "        <tr>\n",
       "            <td>42</td>\n",
       "            <td>2022</td>\n",
       "            <td>2040</td>\n",
       "            <td>Andreas Schmitt</td>\n",
       "            <td>DSU</td>\n",
       "            <td>18</td>\n",
       "        </tr>\n",
       "    </tbody>\n",
       "</table>"
      ],
      "text/plain": [
       "[(33, 1956, 1962, 'Terrance Cantrell', 'NRC', 6),\n",
       " (34, 1962, 1965, 'Daniella Wallace', 'DSU', 3),\n",
       " (35, 1965, 1968, 'Keenan Ritter', 'DSU', 3),\n",
       " (36, 1968, 1974, 'Madeline Silva ', 'NRC', 6),\n",
       " (37, 1974, 1980, 'Douglas Malone', 'L', 6),\n",
       " (38, 1980, 1992, 'John Major ', 'NRC', 12),\n",
       " (39, 1992, 2010, 'Benjamin McKinley ', 'DSU', 18),\n",
       " (40, 2010, 2016, 'David Cameron', 'NRC', 6),\n",
       " (41, 2016, 2022, 'Theresa May', 'L', 6),\n",
       " (42, 2022, 2040, 'Andreas Schmitt', 'DSU', 18)]"
      ]
     },
     "execution_count": 6,
     "metadata": {},
     "output_type": "execute_result"
    }
   ],
   "source": [
    "%%sql\n",
    "SELECT * FROM PRESIDENTS"
   ]
  },
  {
   "cell_type": "code",
   "execution_count": 7,
   "id": "37a029a2-47fa-470f-a178-8521669c9255",
   "metadata": {
    "tags": []
   },
   "outputs": [
    {
     "name": "stdout",
     "output_type": "stream",
     "text": [
      " * ibm_db_sa://pdm92446:***@824dfd4d-99de-440d-9991-629c01b3832d.bs2io90l08kqb1od8lcg.databases.appdomain.cloud:30119/BLUDB?security=SSL\n",
      "Done.\n"
     ]
    }
   ],
   "source": [
    "df = %sql SELECT * FROM PRESIDENTS"
   ]
  },
  {
   "cell_type": "code",
   "execution_count": 12,
   "id": "e3619be1-ecdb-49aa-9b68-596628d6019c",
   "metadata": {
    "tags": []
   },
   "outputs": [],
   "source": [
    "df = df.DataFrame()"
   ]
  },
  {
   "cell_type": "code",
   "execution_count": 9,
   "id": "b2dbdcfd-bccc-4c6e-9ceb-0741db401912",
   "metadata": {
    "tags": []
   },
   "outputs": [
    {
     "data": {
      "text/html": [
       "<div>\n",
       "<style scoped>\n",
       "    .dataframe tbody tr th:only-of-type {\n",
       "        vertical-align: middle;\n",
       "    }\n",
       "\n",
       "    .dataframe tbody tr th {\n",
       "        vertical-align: top;\n",
       "    }\n",
       "\n",
       "    .dataframe thead th {\n",
       "        text-align: right;\n",
       "    }\n",
       "</style>\n",
       "<table border=\"1\" class=\"dataframe\">\n",
       "  <thead>\n",
       "    <tr style=\"text-align: right;\">\n",
       "      <th></th>\n",
       "      <th>id</th>\n",
       "      <th>START</th>\n",
       "      <th>END</th>\n",
       "      <th>name</th>\n",
       "      <th>party</th>\n",
       "      <th>tenure</th>\n",
       "    </tr>\n",
       "  </thead>\n",
       "  <tbody>\n",
       "    <tr>\n",
       "      <th>0</th>\n",
       "      <td>33</td>\n",
       "      <td>1956</td>\n",
       "      <td>1962</td>\n",
       "      <td>Terrance Cantrell</td>\n",
       "      <td>NRC</td>\n",
       "      <td>6</td>\n",
       "    </tr>\n",
       "    <tr>\n",
       "      <th>1</th>\n",
       "      <td>34</td>\n",
       "      <td>1962</td>\n",
       "      <td>1965</td>\n",
       "      <td>Daniella Wallace</td>\n",
       "      <td>DSU</td>\n",
       "      <td>3</td>\n",
       "    </tr>\n",
       "    <tr>\n",
       "      <th>2</th>\n",
       "      <td>35</td>\n",
       "      <td>1965</td>\n",
       "      <td>1968</td>\n",
       "      <td>Keenan Ritter</td>\n",
       "      <td>DSU</td>\n",
       "      <td>3</td>\n",
       "    </tr>\n",
       "    <tr>\n",
       "      <th>3</th>\n",
       "      <td>36</td>\n",
       "      <td>1968</td>\n",
       "      <td>1974</td>\n",
       "      <td>Madeline Silva</td>\n",
       "      <td>NRC</td>\n",
       "      <td>6</td>\n",
       "    </tr>\n",
       "    <tr>\n",
       "      <th>4</th>\n",
       "      <td>37</td>\n",
       "      <td>1974</td>\n",
       "      <td>1980</td>\n",
       "      <td>Douglas Malone</td>\n",
       "      <td>L</td>\n",
       "      <td>6</td>\n",
       "    </tr>\n",
       "  </tbody>\n",
       "</table>\n",
       "</div>"
      ],
      "text/plain": [
       "   id  START   END               name party  tenure\n",
       "0  33   1956  1962  Terrance Cantrell   NRC       6\n",
       "1  34   1962  1965   Daniella Wallace   DSU       3\n",
       "2  35   1965  1968      Keenan Ritter   DSU       3\n",
       "3  36   1968  1974    Madeline Silva    NRC       6\n",
       "4  37   1974  1980     Douglas Malone     L       6"
      ]
     },
     "execution_count": 9,
     "metadata": {},
     "output_type": "execute_result"
    }
   ],
   "source": [
    "df.head()"
   ]
  },
  {
   "cell_type": "code",
   "execution_count": 10,
   "id": "46e55305-6378-4fb9-b30a-b0e3cb22c1aa",
   "metadata": {
    "tags": []
   },
   "outputs": [],
   "source": [
    "df.to_csv('presidents.csv')"
   ]
  }
 ],
 "metadata": {
  "kernelspec": {
   "display_name": "Python 3 (ipykernel)",
   "language": "python",
   "name": "python3"
  },
  "language_info": {
   "codemirror_mode": {
    "name": "ipython",
    "version": 3
   },
   "file_extension": ".py",
   "mimetype": "text/x-python",
   "name": "python",
   "nbconvert_exporter": "python",
   "pygments_lexer": "ipython3",
   "version": "3.11.5"
  }
 },
 "nbformat": 4,
 "nbformat_minor": 5
}
